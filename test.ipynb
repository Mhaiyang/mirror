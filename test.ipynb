{
 "cells": [
  {
   "cell_type": "code",
   "execution_count": 7,
   "metadata": {
    "collapsed": true
   },
   "outputs": [
    {
     "name": "stdout",
     "output_type": "stream",
     "text": [
      "Tensor(\"ones_7:0\", shape=(4, 2, 2, 3), dtype=float32)\nTensor(\"concat_3:0\", shape=(4, 2, 2, 6), dtype=float32)\n"
     ]
    }
   ],
   "source": [
    "import numpy as np\n",
    "import tensorflow as tf\n",
    "\n",
    "a = tf.ones([4, 2,2,3])\n",
    "b = tf.ones([4, 2,2,3])\n",
    "\n",
    "c = tf.concat([a, b], 3)\n",
    "\n",
    "print(a)\n",
    "print(c)"
   ]
  },
  {
   "cell_type": "code",
   "execution_count": 4,
   "metadata": {},
   "outputs": [
    {
     "name": "stdout",
     "output_type": "stream",
     "text": [
      "[[[[1. 1. 1.]\n   [1. 1. 1.]]\n\n  [[1. 1. 1.]\n   [1. 1. 1.]]]\n\n\n [[[1. 1. 1.]\n   [1. 1. 1.]]\n\n  [[1. 1. 1.]\n   [1. 1. 1.]]]\n\n\n [[[1. 1. 1.]\n   [1. 1. 1.]]\n\n  [[1. 1. 1.]\n   [1. 1. 1.]]]\n\n\n [[[1. 1. 1.]\n   [1. 1. 1.]]\n\n  [[1. 1. 1.]\n   [1. 1. 1.]]]]\n[[[[1. 1. 1.]\n   [1. 1. 1.]]\n\n  [[1. 1. 1.]\n   [1. 1. 1.]]]\n\n\n [[[1. 1. 1.]\n   [1. 1. 1.]]\n\n  [[1. 1. 1.]\n   [1. 1. 1.]]]\n\n\n [[[1. 1. 1.]\n   [1. 1. 1.]]\n\n  [[1. 1. 1.]\n   [1. 1. 1.]]]\n\n\n [[[1. 1. 1.]\n   [1. 1. 1.]]\n\n  [[1. 1. 1.]\n   [1. 1. 1.]]]]\n"
     ]
    }
   ],
   "source": [
    "with tf.Session() as sess:\n",
    "    print(sess.run(tf.shape(a)))\n",
    "    print(sess.run(b))\n",
    "\n",
    "\n"
   ]
  },
  {
   "cell_type": "code",
   "execution_count": null,
   "metadata": {},
   "outputs": [],
   "source": []
  }
 ],
 "metadata": {
  "kernelspec": {
   "display_name": "Python 2",
   "language": "python",
   "name": "python2"
  },
  "language_info": {
   "codemirror_mode": {
    "name": "ipython",
    "version": 2
   },
   "file_extension": ".py",
   "mimetype": "text/x-python",
   "name": "python",
   "nbconvert_exporter": "python",
   "pygments_lexer": "ipython2",
   "version": "2.7.6"
  }
 },
 "nbformat": 4,
 "nbformat_minor": 0
}
